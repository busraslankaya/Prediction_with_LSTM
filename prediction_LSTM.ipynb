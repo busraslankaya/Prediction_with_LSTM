{
  "cells": [
    {
      "cell_type": "code",
      "execution_count": null,
      "id": "76b7f541",
      "metadata": {
        "id": "76b7f541"
      },
      "outputs": [],
      "source": [
        "import numpy\n",
        "import pandas as pd \n",
        "import matplotlib.pyplot as plt\n",
        "import math\n",
        "import tensorflow as tf\n",
        "from keras.models import Sequential\n",
        "from keras.layers import Dense\n",
        "from keras.layers import LSTM, GRU\n",
        "from sklearn.metrics import mean_squared_error\n",
        "from statsmodels.tsa.seasonal import seasonal_decompose"
      ]
    },
    {
      "cell_type": "markdown",
      "id": "v8L2ExnAj4fS",
      "metadata": {
        "id": "v8L2ExnAj4fS"
      },
      "source": [
        "## Load Data"
      ]
    },
    {
      "cell_type": "code",
      "execution_count": null,
      "id": "4fAy6CZwaerq",
      "metadata": {
        "colab": {
          "base_uri": "https://localhost:8080/",
          "height": 73,
          "resources": {
            "http://localhost:8080/nbextensions/google.colab/files.js": {
              "data": "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",
              "headers": [
                [
                  "content-type",
                  "application/javascript"
                ]
              ],
              "ok": true,
              "status": 200,
              "status_text": ""
            }
          }
        },
        "id": "4fAy6CZwaerq",
        "outputId": "51aea795-ade7-4e12-e23f-faf67bdd3c31"
      },
      "outputs": [
        {
          "data": {
            "text/html": [
              "\n",
              "     <input type=\"file\" id=\"files-fba84da6-4ac6-4671-b526-499f657532ed\" name=\"files[]\" multiple disabled\n",
              "        style=\"border:none\" />\n",
              "     <output id=\"result-fba84da6-4ac6-4671-b526-499f657532ed\">\n",
              "      Upload widget is only available when the cell has been executed in the\n",
              "      current browser session. Please rerun this cell to enable.\n",
              "      </output>\n",
              "      <script src=\"/nbextensions/google.colab/files.js\"></script> "
            ],
            "text/plain": [
              "<IPython.core.display.HTML object>"
            ]
          },
          "metadata": {
            "tags": []
          },
          "output_type": "display_data"
        },
        {
          "name": "stdout",
          "output_type": "stream",
          "text": [
            "Saving AirPassengers.csv to AirPassengers (4).csv\n"
          ]
        }
      ],
      "source": [
        "from google.colab import files\n",
        "uploaded = files.upload()"
      ]
    },
    {
      "cell_type": "code",
      "execution_count": null,
      "id": "84l8WkSXaq0W",
      "metadata": {
        "id": "84l8WkSXaq0W"
      },
      "outputs": [],
      "source": [
        "import io\n",
        "data = pd.read_csv(io.StringIO(uploaded['AirPassengers.csv'].decode('utf-8')))"
      ]
    },
    {
      "cell_type": "markdown",
      "id": "cOxpKek1oQ3s",
      "metadata": {
        "id": "cOxpKek1oQ3s"
      },
      "source": [
        "**Sample of the first few lines of the file.**"
      ]
    },
    {
      "cell_type": "code",
      "execution_count": null,
      "id": "ff2aa6f2",
      "metadata": {
        "colab": {
          "base_uri": "https://localhost:8080/",
          "height": 203
        },
        "id": "ff2aa6f2",
        "outputId": "134be0b7-b435-4d2e-8b16-759aed71c112"
      },
      "outputs": [
        {
          "data": {
            "text/html": [
              "<div>\n",
              "<style scoped>\n",
              "    .dataframe tbody tr th:only-of-type {\n",
              "        vertical-align: middle;\n",
              "    }\n",
              "\n",
              "    .dataframe tbody tr th {\n",
              "        vertical-align: top;\n",
              "    }\n",
              "\n",
              "    .dataframe thead th {\n",
              "        text-align: right;\n",
              "    }\n",
              "</style>\n",
              "<table border=\"1\" class=\"dataframe\">\n",
              "  <thead>\n",
              "    <tr style=\"text-align: right;\">\n",
              "      <th></th>\n",
              "      <th>Month</th>\n",
              "      <th>#Passengers</th>\n",
              "    </tr>\n",
              "  </thead>\n",
              "  <tbody>\n",
              "    <tr>\n",
              "      <th>0</th>\n",
              "      <td>1949-01</td>\n",
              "      <td>112</td>\n",
              "    </tr>\n",
              "    <tr>\n",
              "      <th>1</th>\n",
              "      <td>1949-02</td>\n",
              "      <td>118</td>\n",
              "    </tr>\n",
              "    <tr>\n",
              "      <th>2</th>\n",
              "      <td>1949-03</td>\n",
              "      <td>132</td>\n",
              "    </tr>\n",
              "    <tr>\n",
              "      <th>3</th>\n",
              "      <td>1949-04</td>\n",
              "      <td>129</td>\n",
              "    </tr>\n",
              "    <tr>\n",
              "      <th>4</th>\n",
              "      <td>1949-05</td>\n",
              "      <td>121</td>\n",
              "    </tr>\n",
              "  </tbody>\n",
              "</table>\n",
              "</div>"
            ],
            "text/plain": [
              "     Month  #Passengers\n",
              "0  1949-01          112\n",
              "1  1949-02          118\n",
              "2  1949-03          132\n",
              "3  1949-04          129\n",
              "4  1949-05          121"
            ]
          },
          "execution_count": 497,
          "metadata": {
            "tags": []
          },
          "output_type": "execute_result"
        }
      ],
      "source": [
        "data.head()"
      ]
    },
    {
      "cell_type": "markdown",
      "id": "3fr8XodP8QM_",
      "metadata": {
        "id": "3fr8XodP8QM_"
      },
      "source": [
        "**Sample of the last few lines of the file.**"
      ]
    },
    {
      "cell_type": "code",
      "execution_count": null,
      "id": "pQqsp_VHaZoE",
      "metadata": {
        "colab": {
          "base_uri": "https://localhost:8080/",
          "height": 203
        },
        "id": "pQqsp_VHaZoE",
        "outputId": "68276c5f-9a4f-4a01-a5b4-725c55077acf"
      },
      "outputs": [
        {
          "data": {
            "text/html": [
              "<div>\n",
              "<style scoped>\n",
              "    .dataframe tbody tr th:only-of-type {\n",
              "        vertical-align: middle;\n",
              "    }\n",
              "\n",
              "    .dataframe tbody tr th {\n",
              "        vertical-align: top;\n",
              "    }\n",
              "\n",
              "    .dataframe thead th {\n",
              "        text-align: right;\n",
              "    }\n",
              "</style>\n",
              "<table border=\"1\" class=\"dataframe\">\n",
              "  <thead>\n",
              "    <tr style=\"text-align: right;\">\n",
              "      <th></th>\n",
              "      <th>Month</th>\n",
              "      <th>#Passengers</th>\n",
              "    </tr>\n",
              "  </thead>\n",
              "  <tbody>\n",
              "    <tr>\n",
              "      <th>139</th>\n",
              "      <td>1960-08</td>\n",
              "      <td>606</td>\n",
              "    </tr>\n",
              "    <tr>\n",
              "      <th>140</th>\n",
              "      <td>1960-09</td>\n",
              "      <td>508</td>\n",
              "    </tr>\n",
              "    <tr>\n",
              "      <th>141</th>\n",
              "      <td>1960-10</td>\n",
              "      <td>461</td>\n",
              "    </tr>\n",
              "    <tr>\n",
              "      <th>142</th>\n",
              "      <td>1960-11</td>\n",
              "      <td>390</td>\n",
              "    </tr>\n",
              "    <tr>\n",
              "      <th>143</th>\n",
              "      <td>1960-12</td>\n",
              "      <td>432</td>\n",
              "    </tr>\n",
              "  </tbody>\n",
              "</table>\n",
              "</div>"
            ],
            "text/plain": [
              "       Month  #Passengers\n",
              "139  1960-08          606\n",
              "140  1960-09          508\n",
              "141  1960-10          461\n",
              "142  1960-11          390\n",
              "143  1960-12          432"
            ]
          },
          "execution_count": 498,
          "metadata": {
            "tags": []
          },
          "output_type": "execute_result"
        }
      ],
      "source": [
        "data.tail()"
      ]
    },
    {
      "cell_type": "markdown",
      "id": "OhRJE22lokTT",
      "metadata": {
        "id": "OhRJE22lokTT"
      },
      "source": [
        "**Upward trend in the dataset over time.**"
      ]
    },
    {
      "cell_type": "code",
      "execution_count": null,
      "id": "1bd51a6f",
      "metadata": {
        "colab": {
          "base_uri": "https://localhost:8080/",
          "height": 295
        },
        "id": "1bd51a6f",
        "outputId": "4febcfaf-378d-4cc6-8481-219eeef9f1b6"
      },
      "outputs": [
        {
          "data": {
            "image/png": "[encoded data removed]",
            "text/plain": [
              "<Figure size 432x288 with 1 Axes>"
            ]
          },
          "metadata": {
            "needs_background": "light",
            "tags": []
          },
          "output_type": "display_data"
        }
      ],
      "source": [
        "import matplotlib.pyplot as plt\n",
        "data.rename(columns={'#Passengers':'passengers'},inplace=True)\n",
        "dataset = data.iloc[:,1].values\n",
        "plt.plot(dataset)\n",
        "plt.xlabel(\"time\")\n",
        "plt.ylabel(\"Number of Passenger\")\n",
        "plt.title(\"International airline passenger\")\n",
        "plt.show()"
      ]
    },
    {
      "cell_type": "markdown",
      "id": "sLHgaEHNkBVo",
      "metadata": {
        "id": "sLHgaEHNkBVo"
      },
      "source": [
        "## Preprocessing"
      ]
    },
    {
      "cell_type": "markdown",
      "id": "e3DZvPNudwpb",
      "metadata": {
        "id": "e3DZvPNudwpb"
      },
      "source": [
        "**Now we can look at the summary of the data set**"
      ]
    },
    {
      "cell_type": "code",
      "execution_count": null,
      "id": "6ffafdea",
      "metadata": {
        "colab": {
          "base_uri": "https://localhost:8080/"
        },
        "id": "6ffafdea",
        "outputId": "1b25476c-c691-47fa-a188-81f19ffde5ef"
      },
      "outputs": [
        {
          "name": "stdout",
          "output_type": "stream",
          "text": [
            "<class 'pandas.core.frame.DataFrame'>\n",
            "RangeIndex: 144 entries, 0 to 143\n",
            "Data columns (total 2 columns):\n",
            " #   Column      Non-Null Count  Dtype \n",
            "---  ------      --------------  ----- \n",
            " 0   Month       144 non-null    object\n",
            " 1   passengers  144 non-null    int64 \n",
            "dtypes: int64(1), object(1)\n",
            "memory usage: 2.4+ KB\n"
          ]
        },
        {
          "data": {
            "text/plain": [
              "(144, 1)"
            ]
          },
          "execution_count": 500,
          "metadata": {
            "tags": []
          },
          "output_type": "execute_result"
        }
      ],
      "source": [
        "data.info()\n",
        "dataset = dataset.reshape(-1,1)\n",
        "dataset = dataset.astype(\"float32\")\n",
        "dataset.shape"
      ]
    },
    {
      "cell_type": "markdown",
      "id": "7h1ZJz4xoySA",
      "metadata": {
        "id": "7h1ZJz4xoySA"
      },
      "source": [
        "**We scale the data between 0 and 1 for our LSTM model.We can easily normalize the dataset using the MinMaxScaler preprocessing class from the scikit-learn library.We need to scale the data for all deep learning models.**"
      ]
    },
    {
      "cell_type": "code",
      "execution_count": null,
      "id": "270a8d9c",
      "metadata": {
        "id": "270a8d9c"
      },
      "outputs": [],
      "source": [
        "from sklearn.preprocessing import MinMaxScaler\n",
        "scaler= MinMaxScaler()\n",
        "dataset=scaler.fit_transform(dataset)"
      ]
    },
    {
      "cell_type": "markdown",
      "id": "FtPP2Y6-o9sg",
      "metadata": {
        "id": "FtPP2Y6-o9sg"
      },
      "source": [
        "**We splitted the ordered dataset into train and test datasets. The code below calculates the index of the split point and separates the data into the training datasets with 69.4% of the observations that we can use to train our model, leaving the remaining 30.5% for testing the model.**"
      ]
    },
    {
      "cell_type": "code",
      "execution_count": null,
      "id": "bf7d6393",
      "metadata": {
        "colab": {
          "base_uri": "https://localhost:8080/"
        },
        "id": "bf7d6393",
        "outputId": "4d4f47dd-92dc-45a2-ac66-0f16ac3bfd25"
      },
      "outputs": [
        {
          "name": "stdout",
          "output_type": "stream",
          "text": [
            "train size: 100, test size: 44 \n"
          ]
        }
      ],
      "source": [
        "train_size = 100\n",
        "test_size = len(dataset) - train_size\n",
        "train = dataset[0:train_size,:]\n",
        "test = dataset[train_size:len(dataset),:]\n",
        "print(\"train size: {}, test size: {} \".format(len(train), len(test)))"
      ]
    },
    {
      "cell_type": "code",
      "execution_count": null,
      "id": "f67f0c1a",
      "metadata": {
        "colab": {
          "base_uri": "https://localhost:8080/"
        },
        "id": "f67f0c1a",
        "outputId": "dfe3a513-a224-491e-a523-3b2a37818136"
      },
      "outputs": [
        {
          "data": {
            "text/plain": [
              "(100, 1)"
            ]
          },
          "execution_count": 503,
          "metadata": {
            "tags": []
          },
          "output_type": "execute_result"
        }
      ],
      "source": [
        "train.shape"
      ]
    },
    {
      "cell_type": "code",
      "execution_count": null,
      "id": "9c72d2f4",
      "metadata": {
        "colab": {
          "base_uri": "https://localhost:8080/"
        },
        "id": "9c72d2f4",
        "outputId": "ef362587-21f6-4e41-e742-71e2c18535f3"
      },
      "outputs": [
        {
          "data": {
            "text/plain": [
              "(44, 1)"
            ]
          },
          "execution_count": 504,
          "metadata": {
            "tags": []
          },
          "output_type": "execute_result"
        }
      ],
      "source": [
        "test.shape"
      ]
    },
    {
      "cell_type": "markdown",
      "id": "rA0nZ9M8pmW6",
      "metadata": {
        "id": "rA0nZ9M8pmW6"
      },
      "source": [
        "**We use default value 1 of time_stemp and use numpy for the array we want to convert to dataset.**\n",
        "\n",
        "**X is the number of passengers at a given time (t) and Y is the number of passengers at the next time (t + 1).**"
      ]
    },
    {
      "cell_type": "code",
      "execution_count": null,
      "id": "49a5a284",
      "metadata": {
        "id": "49a5a284"
      },
      "outputs": [],
      "source": [
        "def get_data(data, time_stemp):\n",
        "    dataX, dataY = [], []\n",
        "    for i in range(len(data)-time_stemp-1):\n",
        "        a = data[i:(i+time_stemp), 0]\n",
        "        dataX.append(a)\n",
        "        dataY.append(data[i+time_stemp, 0])\n",
        "    return np.array(dataX), np.array(dataY)"
      ]
    },
    {
      "cell_type": "markdown",
      "id": "Dzd4YyIzq8vI",
      "metadata": {
        "id": "Dzd4YyIzq8vI"
      },
      "source": [
        "**Let’s use this function to prepare the train and test datasets for modeling.**"
      ]
    },
    {
      "cell_type": "code",
      "execution_count": null,
      "id": "2bMpTf-wgGJf",
      "metadata": {
        "id": "2bMpTf-wgGJf"
      },
      "outputs": [],
      "source": [
        "import numpy as np\n",
        "time_stemp = 1\n",
        "X_train, y_train = get_data(train, time_stemp)\n",
        "X_test, y_test = get_data(test, time_stemp)"
      ]
    },
    {
      "cell_type": "code",
      "execution_count": null,
      "id": "9e179430",
      "metadata": {
        "colab": {
          "base_uri": "https://localhost:8080/"
        },
        "id": "9e179430",
        "outputId": "7a24c1b7-2d4c-423e-f666-e569a89ca21b"
      },
      "outputs": [
        {
          "data": {
            "text/plain": [
              "(98, 1)"
            ]
          },
          "execution_count": 508,
          "metadata": {
            "tags": []
          },
          "output_type": "execute_result"
        }
      ],
      "source": [
        "X_train.shape"
      ]
    },
    {
      "cell_type": "markdown",
      "id": "9ZMTLLtaq_oz",
      "metadata": {
        "id": "9ZMTLLtaq_oz"
      },
      "source": [
        "**Currently, our data is; examples and features. We can transform the prepared train and test input data into the expected structure using reshape() as follows:**"
      ]
    },
    {
      "cell_type": "code",
      "execution_count": null,
      "id": "0934babc",
      "metadata": {
        "id": "0934babc"
      },
      "outputs": [],
      "source": [
        "X_train = X_train.reshape(X_train.shape[0], X_train.shape[1],1)\n",
        "X_test = X_test.reshape(X_test.shape[0], X_test.shape[1],1)"
      ]
    },
    {
      "cell_type": "code",
      "execution_count": null,
      "id": "cbeab7f9",
      "metadata": {
        "colab": {
          "base_uri": "https://localhost:8080/"
        },
        "id": "cbeab7f9",
        "outputId": "68d207d6-a85f-4ef5-d93c-d7c57d773cf1"
      },
      "outputs": [
        {
          "data": {
            "text/plain": [
              "(98, 1, 1)"
            ]
          },
          "execution_count": 510,
          "metadata": {
            "tags": []
          },
          "output_type": "execute_result"
        }
      ],
      "source": [
        "X_train.shape"
      ]
    },
    {
      "cell_type": "code",
      "execution_count": null,
      "id": "34feefc0",
      "metadata": {
        "colab": {
          "base_uri": "https://localhost:8080/"
        },
        "id": "34feefc0",
        "outputId": "3bee0768-03c0-46e0-cbb8-5679ef20fc18"
      },
      "outputs": [
        {
          "data": {
            "text/plain": [
              "numpy.ndarray"
            ]
          },
          "execution_count": 511,
          "metadata": {
            "tags": []
          },
          "output_type": "execute_result"
        }
      ],
      "source": [
        "\n",
        "type(y_test)"
      ]
    },
    {
      "cell_type": "markdown",
      "id": "ghPHgSW9kKRC",
      "metadata": {
        "id": "ghPHgSW9kKRC"
      },
      "source": [
        "## Build LSTM Model"
      ]
    },
    {
      "cell_type": "markdown",
      "id": "qyqVwUkZrZZs",
      "metadata": {
        "id": "qyqVwUkZrZZs"
      },
      "source": [
        "**Our model consists of a 5-node LSTM layer and a one-node Dense layer as the output layer. We use Adam as the optimizer and mean squares error as the loss method. Our model is trained for 25 epochs and 1 batch size is used**"
      ]
    },
    {
      "cell_type": "code",
      "execution_count": null,
      "id": "0a3ee817",
      "metadata": {
        "id": "0a3ee817"
      },
      "outputs": [],
      "source": [
        "model = Sequential()\n",
        "model.add(LSTM(5, input_shape = (1, time_stemp)))\n",
        "model.add(Dense(1))\n",
        "model.compile(loss = 'mean_squared_error', optimizer = 'adam')"
      ]
    },
    {
      "cell_type": "code",
      "execution_count": null,
      "id": "wcXRSScMoGfZ",
      "metadata": {
        "colab": {
          "base_uri": "https://localhost:8080/"
        },
        "id": "wcXRSScMoGfZ",
        "outputId": "7782f6bc-b98a-46dd-c018-f00c71d6576d"
      },
      "outputs": [
        {
          "name": "stdout",
          "output_type": "stream",
          "text": [
            "Model: \"sequential_30\"\n",
            "_________________________________________________________________\n",
            "Layer (type)                 Output Shape              Param #   \n",
            "=================================================================\n",
            "lstm_17 (LSTM)               (None, 5)                 140       \n",
            "_________________________________________________________________\n",
            "dense_29 (Dense)             (None, 1)                 6         \n",
            "=================================================================\n",
            "Total params: 146\n",
            "Trainable params: 146\n",
            "Non-trainable params: 0\n",
            "_________________________________________________________________\n"
          ]
        }
      ],
      "source": [
        "model.summary()"
      ]
    },
    {
      "cell_type": "code",
      "execution_count": null,
      "id": "oUJNmebybJXS",
      "metadata": {
        "colab": {
          "base_uri": "https://localhost:8080/"
        },
        "id": "oUJNmebybJXS",
        "outputId": "e8202515-9741-4bdd-c1d4-8604cc3ca4aa"
      },
      "outputs": [
        {
          "name": "stdout",
          "output_type": "stream",
          "text": [
            "Epoch 1/25\n",
            "98/98 [==============================] - 2s 2ms/step - loss: 0.0370\n",
            "Epoch 2/25\n",
            "98/98 [==============================] - 0s 1ms/step - loss: 0.0151\n",
            "Epoch 3/25\n",
            "98/98 [==============================] - 0s 1ms/step - loss: 0.0112\n",
            "Epoch 4/25\n",
            "98/98 [==============================] - 0s 2ms/step - loss: 0.0085\n",
            "Epoch 5/25\n",
            "98/98 [==============================] - 0s 2ms/step - loss: 0.0081\n",
            "Epoch 6/25\n",
            "98/98 [==============================] - 0s 1ms/step - loss: 0.0077\n",
            "Epoch 7/25\n",
            "98/98 [==============================] - 0s 2ms/step - loss: 0.0060\n",
            "Epoch 8/25\n",
            "98/98 [==============================] - 0s 2ms/step - loss: 0.0065\n",
            "Epoch 9/25\n",
            "98/98 [==============================] - 0s 2ms/step - loss: 0.0045\n",
            "Epoch 10/25\n",
            "98/98 [==============================] - 0s 2ms/step - loss: 0.0034\n",
            "Epoch 11/25\n",
            "98/98 [==============================] - 0s 2ms/step - loss: 0.0036\n",
            "Epoch 12/25\n",
            "98/98 [==============================] - 0s 2ms/step - loss: 0.0039\n",
            "Epoch 13/25\n",
            "98/98 [==============================] - 0s 2ms/step - loss: 0.0031\n",
            "Epoch 14/25\n",
            "98/98 [==============================] - 0s 2ms/step - loss: 0.0020\n",
            "Epoch 15/25\n",
            "98/98 [==============================] - 0s 1ms/step - loss: 0.0025\n",
            "Epoch 16/25\n",
            "98/98 [==============================] - 0s 2ms/step - loss: 0.0029\n",
            "Epoch 17/25\n",
            "98/98 [==============================] - 0s 1ms/step - loss: 0.0016\n",
            "Epoch 18/25\n",
            "98/98 [==============================] - 0s 2ms/step - loss: 0.0024\n",
            "Epoch 19/25\n",
            "98/98 [==============================] - 0s 2ms/step - loss: 0.0021\n",
            "Epoch 20/25\n",
            "98/98 [==============================] - 0s 2ms/step - loss: 0.0017\n",
            "Epoch 21/25\n",
            "98/98 [==============================] - 0s 2ms/step - loss: 0.0025\n",
            "Epoch 22/25\n",
            "98/98 [==============================] - 0s 2ms/step - loss: 0.0022\n",
            "Epoch 23/25\n",
            "98/98 [==============================] - 0s 1ms/step - loss: 0.0024\n",
            "Epoch 24/25\n",
            "98/98 [==============================] - 0s 1ms/step - loss: 0.0021\n",
            "Epoch 25/25\n",
            "98/98 [==============================] - 0s 2ms/step - loss: 0.0021\n"
          ]
        },
        {
          "data": {
            "text/plain": [
              "<keras.callbacks.History at 0x7f6612ade6d0>"
            ]
          },
          "execution_count": 514,
          "metadata": {
            "tags": []
          },
          "output_type": "execute_result"
        }
      ],
      "source": [
        "model.fit(X_train, y_train, epochs=25, batch_size=1)"
      ]
    },
    {
      "cell_type": "markdown",
      "id": "JaGZQN7-kree",
      "metadata": {
        "id": "JaGZQN7-kree"
      },
      "source": [
        "## Prediction\n",
        "**After training our model, we prediction our test set and store it.**"
      ]
    },
    {
      "cell_type": "code",
      "execution_count": null,
      "id": "sHuXTwP3hM-X",
      "metadata": {
        "colab": {
          "base_uri": "https://localhost:8080/"
        },
        "id": "sHuXTwP3hM-X",
        "outputId": "fe91b25b-19ba-4b87-d0d1-c6aef0994417"
      },
      "outputs": [
        {
          "name": "stdout",
          "output_type": "stream",
          "text": [
            "WARNING:tensorflow:5 out of the last 15 calls to <function Model.make_predict_function.<locals>.predict_function at 0x7f66129b2050> triggered tf.function retracing. Tracing is expensive and the excessive number of tracings could be due to (1) creating @tf.function repeatedly in a loop, (2) passing tensors with different shapes, (3) passing Python objects instead of tensors. For (1), please define your @tf.function outside of the loop. For (2), @tf.function has experimental_relax_shapes=True option that relaxes argument shapes that can avoid unnecessary retracing. For (3), please refer to https://www.tensorflow.org/guide/function#controlling_retracing and https://www.tensorflow.org/api_docs/python/tf/function for  more details.\n"
          ]
        }
      ],
      "source": [
        "y_pred = model.predict(X_test)"
      ]
    },
    {
      "cell_type": "markdown",
      "id": "uu-vEPTFvCC4",
      "metadata": {
        "id": "uu-vEPTFvCC4"
      },
      "source": [
        "**We scale the data with scaler and then use the inverse for prediction**"
      ]
    },
    {
      "cell_type": "code",
      "execution_count": null,
      "id": "xrOC8jbXcz9Y",
      "metadata": {
        "colab": {
          "base_uri": "https://localhost:8080/"
        },
        "id": "xrOC8jbXcz9Y",
        "outputId": "ee02e87e-07a1-4d12-8b49-97c5681e8cb2"
      },
      "outputs": [
        {
          "data": {
            "text/plain": [
              "array([0.0019305], dtype=float32)"
            ]
          },
          "execution_count": 516,
          "metadata": {
            "tags": []
          },
          "output_type": "execute_result"
        }
      ],
      "source": [
        "scaler.scale_"
      ]
    },
    {
      "cell_type": "code",
      "execution_count": null,
      "id": "eVksaHkKc5Ux",
      "metadata": {
        "id": "eVksaHkKc5Ux"
      },
      "outputs": [],
      "source": [
        "y_pred = scaler.inverse_transform(y_pred)"
      ]
    },
    {
      "cell_type": "markdown",
      "id": "SIfkXvkLv8vl",
      "metadata": {
        "id": "SIfkXvkLv8vl"
      },
      "source": [
        "**We reshaped due to unknown number of rows**"
      ]
    },
    {
      "cell_type": "code",
      "execution_count": null,
      "id": "qEaMlRQshT_5",
      "metadata": {
        "id": "qEaMlRQshT_5"
      },
      "outputs": [],
      "source": [
        "y_test = y_test.reshape(-1, 1)\n",
        "y_test = scaler.inverse_transform(y_test)"
      ]
    },
    {
      "cell_type": "markdown",
      "id": "p7eb3e4Awf-H",
      "metadata": {
        "id": "p7eb3e4Awf-H"
      },
      "source": [
        "**Here is the real number of passengers**"
      ]
    },
    {
      "cell_type": "code",
      "execution_count": null,
      "id": "O7dclaAnSB9C",
      "metadata": {
        "colab": {
          "base_uri": "https://localhost:8080/"
        },
        "id": "O7dclaAnSB9C",
        "outputId": "bb27311c-f931-4a18-f1e6-771ed8036a35"
      },
      "outputs": [
        {
          "data": {
            "text/plain": [
              "array([[421.99997],\n",
              "       [465.     ],\n",
              "       [466.99997],\n",
              "       [403.99997],\n",
              "       [347.     ],\n",
              "       [305.     ],\n",
              "       [336.     ],\n",
              "       [340.     ],\n",
              "       [318.     ],\n",
              "       [362.     ],\n",
              "       [348.     ],\n",
              "       [363.     ],\n",
              "       [434.99997],\n",
              "       [491.     ],\n",
              "       [505.     ],\n",
              "       [403.99997],\n",
              "       [359.     ],\n",
              "       [310.     ],\n",
              "       [337.     ],\n",
              "       [360.     ],\n",
              "       [342.     ],\n",
              "       [406.     ],\n",
              "       [395.99997],\n",
              "       [420.     ],\n",
              "       [471.99997],\n",
              "       [548.     ],\n",
              "       [559.     ],\n",
              "       [462.99997],\n",
              "       [407.     ],\n",
              "       [362.     ],\n",
              "       [404.99997],\n",
              "       [416.99997],\n",
              "       [390.99997],\n",
              "       [418.99997],\n",
              "       [461.     ],\n",
              "       [471.99997],\n",
              "       [535.     ],\n",
              "       [622.     ],\n",
              "       [606.     ],\n",
              "       [507.99997],\n",
              "       [461.     ],\n",
              "       [390.     ]], dtype=float32)"
            ]
          },
          "execution_count": 519,
          "metadata": {
            "tags": []
          },
          "output_type": "execute_result"
        }
      ],
      "source": [
        "y_test.view()"
      ]
    },
    {
      "cell_type": "markdown",
      "id": "umwZkMK1wjrM",
      "metadata": {
        "id": "umwZkMK1wjrM"
      },
      "source": [
        "**Here is prediced number of passengers**"
      ]
    },
    {
      "cell_type": "code",
      "execution_count": null,
      "id": "TzI3jm8RwnXz",
      "metadata": {
        "colab": {
          "base_uri": "https://localhost:8080/"
        },
        "id": "TzI3jm8RwnXz",
        "outputId": "d6847b1d-28e9-444a-b2ab-2d6bda63a0e3"
      },
      "outputs": [
        {
          "data": {
            "text/plain": [
              "array([[345.5842 ],\n",
              "       [410.1696 ],\n",
              "       [450.5858 ],\n",
              "       [452.43918],\n",
              "       [392.9724 ],\n",
              "       [337.795  ],\n",
              "       [296.8408 ],\n",
              "       [327.07297],\n",
              "       [330.97314],\n",
              "       [309.5154 ],\n",
              "       [352.3914 ],\n",
              "       [338.76917],\n",
              "       [353.36304],\n",
              "       [422.4955 ],\n",
              "       [474.47092],\n",
              "       [487.1343 ],\n",
              "       [392.9724 ],\n",
              "       [349.4751 ],\n",
              "       [301.7141 ],\n",
              "       [328.04816],\n",
              "       [350.44736],\n",
              "       [332.92276],\n",
              "       [394.89008],\n",
              "       [385.28625],\n",
              "       [408.266  ],\n",
              "       [457.06113],\n",
              "       [525.0728 ],\n",
              "       [534.5311 ],\n",
              "       [448.7299 ],\n",
              "       [395.84824],\n",
              "       [352.3914 ],\n",
              "       [393.9314 ],\n",
              "       [405.407  ],\n",
              "       [380.4706 ],\n",
              "       [407.31345],\n",
              "       [446.8715 ],\n",
              "       [457.06113],\n",
              "       [513.762  ],\n",
              "       [586.6108 ],\n",
              "       [573.73065],\n",
              "       [489.8288 ],\n",
              "       [446.8715 ]], dtype=float32)"
            ]
          },
          "execution_count": 520,
          "metadata": {
            "tags": []
          },
          "output_type": "execute_result"
        }
      ],
      "source": [
        "y_pred.view()"
      ]
    },
    {
      "cell_type": "markdown",
      "id": "P_-ki39yjEHn",
      "metadata": {
        "id": "P_-ki39yjEHn"
      },
      "source": [
        "# **Plot of prediction of one data point ahead**\n",
        "\n",
        "**As can be seen in the plot, one step prediction is not bad. \n",
        "The scale is a bit of, because the data is normalized.**"
      ]
    },
    {
      "cell_type": "code",
      "execution_count": null,
      "id": "MfvFV5QthUHa",
      "metadata": {
        "colab": {
          "base_uri": "https://localhost:8080/",
          "height": 265
        },
        "id": "MfvFV5QthUHa",
        "outputId": "adda6cd1-2f14-4707-887b-cc67dfe87208"
      },
      "outputs": [
        {
          "data": {
            "image/png": "[encoded data removed]",
            "text/plain": [
              "<Figure size 864x288 with 1 Axes>"
            ]
          },
          "metadata": {
            "needs_background": "light",
            "tags": []
          },
          "output_type": "display_data"
        }
      ],
      "source": [
        "# plot baseline and predictions\n",
        "plt.figure(figsize=(12,4))\n",
        "plt.plot(y_test, label = 'real number of passengers')\n",
        "plt.plot(y_pred, label = 'predicted number of passengers')\n",
        "plt.ylabel('Passengers')\n",
        "plt.legend()\n",
        "plt.show()"
      ]
    },
    {
      "cell_type": "markdown",
      "id": "J-S3p4eGtnwX",
      "metadata": {
        "id": "J-S3p4eGtnwX"
      },
      "source": [
        "##Conclusion\n",
        "**As can be seen in the table formed according to the results, according to these data between the years 1949-1960, we see that the number of passengers fluctuated as time progressed, not in a constant increasing or decreasing state. However, our model predicted these fluctuations and managed to make on-the-spot predictions. This result clearly shows how powerful LSTM is in data analysis.**"
      ]
    }
  ],
  "metadata": {
    "colab": {
      "collapsed_sections": [],
      "name": "161805055_BusraAslankaya_161805044_BerfimKorkmaz.ipynb",
      "provenance": [],
      "toc_visible": true
    },
    "kernelspec": {
      "display_name": "Python 3",
      "language": "python",
      "name": "python3"
    },
    "language_info": {
      "codemirror_mode": {
        "name": "ipython",
        "version": 3
      },
      "file_extension": ".py",
      "mimetype": "text/x-python",
      "name": "python",
      "nbconvert_exporter": "python",
      "pygments_lexer": "ipython3",
      "version": "3.8.8"
    }
  },
  "nbformat": 4,
  "nbformat_minor": 5
}
